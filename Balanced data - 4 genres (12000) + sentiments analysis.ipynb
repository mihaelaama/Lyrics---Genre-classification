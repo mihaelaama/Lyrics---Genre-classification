{
 "cells": [
  {
   "cell_type": "code",
   "execution_count": 1,
   "id": "3a4bbd2f",
   "metadata": {},
   "outputs": [],
   "source": [
    "import pandas as pd\n",
    "\n",
    "# Load the dataset\n",
    "df = pd.read_csv('selected_lyrics.csv')"
   ]
  },
  {
   "cell_type": "code",
   "execution_count": 2,
   "id": "2ac12074",
   "metadata": {},
   "outputs": [
    {
     "name": "stdout",
     "output_type": "stream",
     "text": [
      "         Artist             Title  Genre  \\\n",
      "0  3 doors down  here without you  Metal   \n",
      "1  3 doors down     when i'm gone  Metal   \n",
      "2  3 doors down        kryptonite  Metal   \n",
      "3  3 doors down         let me go  Metal   \n",
      "4  3 doors down      be like that  Metal   \n",
      "\n",
      "                                      Cleaned_Lyrics  compound  positive  \\\n",
      "0  A hundred days have made me older\\nSince the l...    0.9797     0.134   \n",
      "1  Theres another world inside of me that you may...   -0.3661     0.132   \n",
      "2  I took a walk around the world\\nTo ease my tro...    0.8625     0.146   \n",
      "3  One more kiss could be the best thing\\none mor...    0.9934     0.186   \n",
      "4  He spends his nights in California\\nWatching t...    0.9923     0.161   \n",
      "\n",
      "   neutral  negative  \n",
      "0    0.806     0.060  \n",
      "1    0.709     0.159  \n",
      "2    0.751     0.102  \n",
      "3    0.728     0.086  \n",
      "4    0.818     0.021  \n"
     ]
    }
   ],
   "source": [
    "import pandas as pd\n",
    "from vaderSentiment.vaderSentiment import SentimentIntensityAnalyzer\n",
    "\n",
    "# Load the dataset\n",
    "df = pd.read_csv('selected_lyrics.csv')\n",
    "\n",
    "# Initialize the sentiment analyzer\n",
    "analyzer = SentimentIntensityAnalyzer()\n",
    "\n",
    "# Function to analyze sentiment\n",
    "def analyze_sentiment(lyric):\n",
    "    if pd.isna(lyric):\n",
    "        # Return neutral sentiment for NaN values\n",
    "        return pd.Series([0, 0, 1, 0])\n",
    "    else:\n",
    "        scores = analyzer.polarity_scores(str(lyric))  # Ensure lyric is a string\n",
    "        return pd.Series([scores['compound'], scores['pos'], scores['neu'], scores['neg']])\n",
    "\n",
    "# Apply the function to the Cleared_Lyrics column and create new columns for the sentiment scores\n",
    "df[['compound', 'positive', 'neutral', 'negative']] = df['Cleaned_Lyrics'].apply(analyze_sentiment)\n",
    "\n",
    "# Display the DataFrame with sentiment scores\n",
    "print(df.head())\n",
    "\n",
    "# Save the resulting DataFrame to a new CSV file\n",
    "df.to_csv('lyrics_sentiment_analysis2.csv', index=False)"
   ]
  },
  {
   "cell_type": "code",
   "execution_count": 5,
   "id": "fcff3329",
   "metadata": {},
   "outputs": [],
   "source": [
    "# Function to categorize sentiment based on scores\n",
    "def categorize_sentiment(row):\n",
    "    if row['compound'] >= 0.05:\n",
    "        return 'positive'\n",
    "    elif row['compound'] <= -0.05:\n",
    "        return 'negative'\n",
    "    else:\n",
    "        return 'neutral'\n",
    "\n",
    "# Apply the categorize_sentiment function to create a new column for sentiment category\n",
    "df['sentiment_category'] = df.apply(categorize_sentiment, axis=1)\n",
    "\n",
    "# Define the number of instances to sample per genre\n",
    "num_samples = 12000\n",
    "\n",
    "# Sample 1200 instances from each genre\n",
    "genres = ['Metal', 'Pop', 'Jazz', 'Rap']\n",
    "sampled_dfs = [df[df['Genre'] == genre].sample(n=num_samples, random_state=42) for genre in genres]\n",
    "\n",
    "# Concatenate the sampled DataFrames\n",
    "sampled_df = pd.concat(sampled_dfs)\n",
    "\n",
    "# Save the sampled DataFrame to a new CSV file\n",
    "sampled_df.to_csv('12000_lyrics_dataset.csv', index=False)"
   ]
  },
  {
   "cell_type": "code",
   "execution_count": 6,
   "id": "cafa378e",
   "metadata": {},
   "outputs": [
    {
     "name": "stdout",
     "output_type": "stream",
     "text": [
      "sentiment_category  negative  neutral  positive\n",
      "Genre                                          \n",
      "Jazz                    1944      153      9903\n",
      "Metal                   7552      135      4313\n",
      "Pop                     3761      104      8135\n",
      "Rap                     7138       66      4796\n"
     ]
    }
   ],
   "source": [
    "import pandas as pd\n",
    "\n",
    "# Load the balanced dataset\n",
    "balanced_df = pd.read_csv('12000_lyrics_dataset.csv')\n",
    "\n",
    "# Function to categorize sentiment based on compound scores\n",
    "def categorize_sentiment(row):\n",
    "    if row['compound'] >= 0.05:\n",
    "        return 'positive'\n",
    "    elif row['compound'] <= -0.05:\n",
    "        return 'negative'\n",
    "    else:\n",
    "        return 'neutral'\n",
    "\n",
    "# Apply the categorize_sentiment function to create a new column for sentiment category\n",
    "balanced_df['sentiment_category'] = balanced_df.apply(categorize_sentiment, axis=1)\n",
    "\n",
    "# Group by genre and sentiment category, then count the occurrences\n",
    "sentiment_counts = balanced_df.groupby(['Genre', 'sentiment_category']).size().unstack(fill_value=0)\n",
    "\n",
    "# Display the sentiment counts by genre\n",
    "print(sentiment_counts)"
   ]
  },
  {
   "cell_type": "code",
   "execution_count": null,
   "id": "211bed20",
   "metadata": {},
   "outputs": [],
   "source": []
  }
 ],
 "metadata": {
  "kernelspec": {
   "display_name": "Python 3 (ipykernel)",
   "language": "python",
   "name": "python3"
  },
  "language_info": {
   "codemirror_mode": {
    "name": "ipython",
    "version": 3
   },
   "file_extension": ".py",
   "mimetype": "text/x-python",
   "name": "python",
   "nbconvert_exporter": "python",
   "pygments_lexer": "ipython3",
   "version": "3.11.5"
  }
 },
 "nbformat": 4,
 "nbformat_minor": 5
}
