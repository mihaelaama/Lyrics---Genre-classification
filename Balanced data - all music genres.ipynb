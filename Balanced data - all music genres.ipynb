{
 "cells": [
  {
   "cell_type": "code",
   "execution_count": 1,
   "id": "7c697a28",
   "metadata": {},
   "outputs": [
    {
     "name": "stdout",
     "output_type": "stream",
     "text": [
      "Numărul de versuri filtrate: 263076\n"
     ]
    }
   ],
   "source": [
    "import pandas as pd\n",
    "\n",
    "# Încarcă setul de date\n",
    "data = pd.read_csv('set_de_date_final.csv')\n",
    "\n",
    "# Genurile de interes\n",
    "genres_of_interest = [\n",
    "    \"Rock\", \"Metal\", \"Pop\", \"Indie\", \"Folk\", \"Electronic\", \n",
    "    \"R&B\", \"Jazz\", \"Hip-Hop\", \"Country\", \"rap\"\n",
    "]\n",
    "\n",
    "# Filtrează setul de date pentru a păstra doar versurile din genurile de interes\n",
    "filtered_data = data[data['Genre'].isin(genres_of_interest)]\n",
    "\n",
    "# Salvează setul de date filtrat\n",
    "filtered_data.to_csv('toate genurile_1500.csv', index=False)\n",
    "\n",
    "print(f\"Numărul de versuri filtrate: {len(filtered_data)}\")"
   ]
  },
  {
   "cell_type": "code",
   "execution_count": 3,
   "id": "d29d8646",
   "metadata": {},
   "outputs": [
    {
     "name": "stdout",
     "output_type": "stream",
     "text": [
      "Numărul de versuri după eșantionare: 16500\n"
     ]
    }
   ],
   "source": [
    "# Definește un număr maxim de date dorit pentru fiecare gen\n",
    "max_samples_per_genre = 1500\n",
    "\n",
    "# Grupare după gen și luare a maximului de sample-uri dorite pentru fiecare gen\n",
    "sampled_data = filtered_data.groupby('Genre').head(max_samples_per_genre)\n",
    "\n",
    "# Salvează setul de date cu un număr fix de date pentru fiecare gen\n",
    "sampled_data.to_csv('1500date-mai multe genuri.csv', index=False)\n",
    "\n",
    "print(f\"Numărul de versuri după eșantionare: {len(sampled_data)}\")"
   ]
  },
  {
   "cell_type": "code",
   "execution_count": null,
   "id": "88297baf",
   "metadata": {},
   "outputs": [],
   "source": []
  }
 ],
 "metadata": {
  "kernelspec": {
   "display_name": "Python 3 (ipykernel)",
   "language": "python",
   "name": "python3"
  },
  "language_info": {
   "codemirror_mode": {
    "name": "ipython",
    "version": 3
   },
   "file_extension": ".py",
   "mimetype": "text/x-python",
   "name": "python",
   "nbconvert_exporter": "python",
   "pygments_lexer": "ipython3",
   "version": "3.11.5"
  }
 },
 "nbformat": 4,
 "nbformat_minor": 5
}
