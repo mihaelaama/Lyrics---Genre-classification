{
 "cells": [
  {
   "cell_type": "code",
   "execution_count": 1,
   "id": "ad392667",
   "metadata": {},
   "outputs": [
    {
     "name": "stdout",
     "output_type": "stream",
     "text": [
      "Collecting vaderSentiment\n",
      "  Obtaining dependency information for vaderSentiment from https://files.pythonhosted.org/packages/76/fc/310e16254683c1ed35eeb97386986d6c00bc29df17ce280aed64d55537e9/vaderSentiment-3.3.2-py2.py3-none-any.whl.metadata\n",
      "  Downloading vaderSentiment-3.3.2-py2.py3-none-any.whl.metadata (572 bytes)\n",
      "Requirement already satisfied: requests in c:\\users\\admin\\anaconda3\\lib\\site-packages (from vaderSentiment) (2.31.0)\n",
      "Requirement already satisfied: charset-normalizer<4,>=2 in c:\\users\\admin\\anaconda3\\lib\\site-packages (from requests->vaderSentiment) (2.0.4)\n",
      "Requirement already satisfied: idna<4,>=2.5 in c:\\users\\admin\\anaconda3\\lib\\site-packages (from requests->vaderSentiment) (3.4)\n",
      "Requirement already satisfied: urllib3<3,>=1.21.1 in c:\\users\\admin\\anaconda3\\lib\\site-packages (from requests->vaderSentiment) (1.26.16)\n",
      "Requirement already satisfied: certifi>=2017.4.17 in c:\\users\\admin\\anaconda3\\lib\\site-packages (from requests->vaderSentiment) (2023.7.22)\n",
      "Downloading vaderSentiment-3.3.2-py2.py3-none-any.whl (125 kB)\n",
      "   ---------------------------------------- 0.0/126.0 kB ? eta -:--:--\n",
      "   --- ------------------------------------ 10.2/126.0 kB ? eta -:--:--\n",
      "   ------ -------------------------------- 20.5/126.0 kB 320.0 kB/s eta 0:00:01\n",
      "   ------------------- ------------------- 61.4/126.0 kB 465.5 kB/s eta 0:00:01\n",
      "   -------------------------------------- 126.0/126.0 kB 820.6 kB/s eta 0:00:00\n",
      "Installing collected packages: vaderSentiment\n",
      "Successfully installed vaderSentiment-3.3.2\n",
      "Note: you may need to restart the kernel to use updated packages.\n"
     ]
    }
   ],
   "source": [
    "pip install vaderSentiment\n"
   ]
  },
  {
   "cell_type": "code",
   "execution_count": 2,
   "id": "1c1bfa43",
   "metadata": {},
   "outputs": [],
   "source": [
    "lyrics = [\n",
    "    \"When I find myself in times of trouble, Mother Mary comes to me, speaking words of wisdom, let it be.\",\n",
    "    \"I can't get no satisfaction, I can't get no satisfaction, 'cause I try and I try and I try and I try, I can't get no.\",\n",
    "    \"Hey Jude, don't make it bad. Take a sad song and make it better.\"\n",
    "]\n"
   ]
  },
  {
   "cell_type": "code",
   "execution_count": 3,
   "id": "b0c3b02b",
   "metadata": {},
   "outputs": [
    {
     "name": "stdout",
     "output_type": "stream",
     "text": [
      "Lyrics: When I find myself in times of trouble, Mother Mary comes to me, speaking words of wisdom, let it be.\n",
      "Compound Score: 0.1779\n",
      "Positive Score: 0.141\n",
      "Neutral Score: 0.747\n",
      "Negative Score: 0.112\n",
      "\n",
      "Lyrics: I can't get no satisfaction, I can't get no satisfaction, 'cause I try and I try and I try and I try, I can't get no.\n",
      "Compound Score: 0.4733\n",
      "Positive Score: 0.145\n",
      "Neutral Score: 0.855\n",
      "Negative Score: 0.0\n",
      "\n",
      "Lyrics: Hey Jude, don't make it bad. Take a sad song and make it better.\n",
      "Compound Score: 0.3919\n",
      "Positive Score: 0.29\n",
      "Neutral Score: 0.554\n",
      "Negative Score: 0.156\n",
      "\n"
     ]
    }
   ],
   "source": [
    "from vaderSentiment.vaderSentiment import SentimentIntensityAnalyzer\n",
    "\n",
    "# Initialize the sentiment analyzer\n",
    "analyzer = SentimentIntensityAnalyzer()\n",
    "\n",
    "# Function to analyze sentiment of lyrics\n",
    "def analyze_lyrics(lyrics):\n",
    "    results = []\n",
    "    for lyric in lyrics:\n",
    "        scores = analyzer.polarity_scores(lyric)\n",
    "        results.append({\n",
    "            'lyric': lyric,\n",
    "            'compound': scores['compound'],\n",
    "            'positive': scores['pos'],\n",
    "            'neutral': scores['neu'],\n",
    "            'negative': scores['neg']\n",
    "        })\n",
    "    return results\n",
    "\n",
    "# Perform the analysis\n",
    "lyric_sentiments = analyze_lyrics(lyrics)\n",
    "\n",
    "# Output the results\n",
    "for sentiment in lyric_sentiments:\n",
    "    print(f\"Lyrics: {sentiment['lyric']}\")\n",
    "    print(f\"Compound Score: {sentiment['compound']}\")\n",
    "    print(f\"Positive Score: {sentiment['positive']}\")\n",
    "    print(f\"Neutral Score: {sentiment['neutral']}\")\n",
    "    print(f\"Negative Score: {sentiment['negative']}\")\n",
    "    print()\n"
   ]
  },
  {
   "cell_type": "code",
   "execution_count": 4,
   "id": "21fee1e4",
   "metadata": {},
   "outputs": [
    {
     "name": "stdout",
     "output_type": "stream",
     "text": [
      "Lyrics: I can't get no satisfaction, I can't get no satisfaction, 'cause I try and I try and I try and I try, I can't get no.\n",
      "Compound Score: 0.4733\n",
      "Positive Score: 0.145\n",
      "Neutral Score: 0.855\n",
      "Negative Score: 0.0\n"
     ]
    }
   ],
   "source": [
    "from vaderSentiment.vaderSentiment import SentimentIntensityAnalyzer\n",
    "\n",
    "# Initialize the sentiment analyzer\n",
    "analyzer = SentimentIntensityAnalyzer()\n",
    "\n",
    "# Add custom words to the lexicon if needed\n",
    "analyzer.lexicon.update({\n",
    "    \"can't get no\": -2.0  # Custom entry for specific phrase\n",
    "})\n",
    "\n",
    "# Sample lyrics\n",
    "lyrics = \"I can't get no satisfaction, I can't get no satisfaction, 'cause I try and I try and I try and I try, I can't get no.\"\n",
    "\n",
    "# Perform sentiment analysis\n",
    "scores = analyzer.polarity_scores(lyrics)\n",
    "\n",
    "# Output the sentiment scores\n",
    "print(f\"Lyrics: {lyrics}\")\n",
    "print(f\"Compound Score: {scores['compound']}\")\n",
    "print(f\"Positive Score: {scores['pos']}\")\n",
    "print(f\"Neutral Score: {scores['neu']}\")\n",
    "print(f\"Negative Score: {scores['neg']}\")\n"
   ]
  },
  {
   "cell_type": "code",
   "execution_count": 5,
   "id": "f87f6574",
   "metadata": {},
   "outputs": [
    {
     "name": "stdout",
     "output_type": "stream",
     "text": [
      "Requirement already satisfied: pandas in c:\\users\\admin\\anaconda3\\lib\\site-packages (2.0.3)\n",
      "Requirement already satisfied: vaderSentiment in c:\\users\\admin\\anaconda3\\lib\\site-packages (3.3.2)\n",
      "Requirement already satisfied: python-dateutil>=2.8.2 in c:\\users\\admin\\anaconda3\\lib\\site-packages (from pandas) (2.8.2)\n",
      "Requirement already satisfied: pytz>=2020.1 in c:\\users\\admin\\anaconda3\\lib\\site-packages (from pandas) (2023.3.post1)\n",
      "Requirement already satisfied: tzdata>=2022.1 in c:\\users\\admin\\anaconda3\\lib\\site-packages (from pandas) (2023.3)\n",
      "Requirement already satisfied: numpy>=1.21.0 in c:\\users\\admin\\anaconda3\\lib\\site-packages (from pandas) (1.24.3)\n",
      "Requirement already satisfied: requests in c:\\users\\admin\\anaconda3\\lib\\site-packages (from vaderSentiment) (2.31.0)\n",
      "Requirement already satisfied: six>=1.5 in c:\\users\\admin\\anaconda3\\lib\\site-packages (from python-dateutil>=2.8.2->pandas) (1.16.0)\n",
      "Requirement already satisfied: charset-normalizer<4,>=2 in c:\\users\\admin\\anaconda3\\lib\\site-packages (from requests->vaderSentiment) (2.0.4)\n",
      "Requirement already satisfied: idna<4,>=2.5 in c:\\users\\admin\\anaconda3\\lib\\site-packages (from requests->vaderSentiment) (3.4)\n",
      "Requirement already satisfied: urllib3<3,>=1.21.1 in c:\\users\\admin\\anaconda3\\lib\\site-packages (from requests->vaderSentiment) (1.26.16)\n",
      "Requirement already satisfied: certifi>=2017.4.17 in c:\\users\\admin\\anaconda3\\lib\\site-packages (from requests->vaderSentiment) (2023.7.22)\n",
      "Note: you may need to restart the kernel to use updated packages.\n"
     ]
    }
   ],
   "source": [
    "pip install pandas vaderSentiment\n"
   ]
  },
  {
   "cell_type": "code",
   "execution_count": 9,
   "id": "b28b4c29",
   "metadata": {},
   "outputs": [],
   "source": [
    "import pandas as pd\n",
    "\n",
    "# Load the dataset\n",
    "df = pd.read_csv('selected_lyrics.csv')\n"
   ]
  },
  {
   "cell_type": "code",
   "execution_count": 12,
   "id": "060175f9",
   "metadata": {},
   "outputs": [
    {
     "name": "stdout",
     "output_type": "stream",
     "text": [
      "         Artist             Title  Genre  \\\n",
      "0  3 doors down  here without you  Metal   \n",
      "1  3 doors down     when i'm gone  Metal   \n",
      "2  3 doors down        kryptonite  Metal   \n",
      "3  3 doors down         let me go  Metal   \n",
      "4  3 doors down      be like that  Metal   \n",
      "\n",
      "                                      Cleaned_Lyrics  compound  positive  \\\n",
      "0  A hundred days have made me older\\nSince the l...    0.9797     0.134   \n",
      "1  Theres another world inside of me that you may...   -0.3661     0.132   \n",
      "2  I took a walk around the world\\nTo ease my tro...    0.8625     0.146   \n",
      "3  One more kiss could be the best thing\\none mor...    0.9934     0.186   \n",
      "4  He spends his nights in California\\nWatching t...    0.9923     0.161   \n",
      "\n",
      "   neutral  negative  \n",
      "0    0.806     0.060  \n",
      "1    0.709     0.159  \n",
      "2    0.751     0.102  \n",
      "3    0.728     0.086  \n",
      "4    0.818     0.021  \n"
     ]
    }
   ],
   "source": [
    "import pandas as pd\n",
    "from vaderSentiment.vaderSentiment import SentimentIntensityAnalyzer\n",
    "\n",
    "# Load the dataset\n",
    "df = pd.read_csv('selected_lyrics.csv')\n",
    "\n",
    "# Initialize the sentiment analyzer\n",
    "analyzer = SentimentIntensityAnalyzer()\n",
    "\n",
    "# Function to analyze sentiment\n",
    "def analyze_sentiment(lyric):\n",
    "    if pd.isna(lyric):\n",
    "        # Return neutral sentiment for NaN values\n",
    "        return pd.Series([0, 0, 1, 0])\n",
    "    else:\n",
    "        scores = analyzer.polarity_scores(str(lyric))  # Ensure lyric is a string\n",
    "        return pd.Series([scores['compound'], scores['pos'], scores['neu'], scores['neg']])\n",
    "\n",
    "# Apply the function to the Cleared_Lyrics column and create new columns for the sentiment scores\n",
    "df[['compound', 'positive', 'neutral', 'negative']] = df['Cleaned_Lyrics'].apply(analyze_sentiment)\n",
    "\n",
    "# Display the DataFrame with sentiment scores\n",
    "print(df.head())\n",
    "\n",
    "# Save the resulting DataFrame to a new CSV file\n",
    "df.to_csv('lyrics_sentiment_analysis.csv', index=False)\n",
    "\n"
   ]
  },
  {
   "cell_type": "code",
   "execution_count": 13,
   "id": "e34be873",
   "metadata": {},
   "outputs": [
    {
     "name": "stdout",
     "output_type": "stream",
     "text": [
      "Instance with the highest negative score:\n",
      "Artist            blind guardian\n",
      "Title                    lammoth\n",
      "Genre                      Metal\n",
      "Cleaned_Lyrics        War Sounds\n",
      "compound                 -0.5994\n",
      "positive                     0.0\n",
      "neutral                    0.204\n",
      "negative                   0.796\n",
      "Name: 95864, dtype: object\n"
     ]
    }
   ],
   "source": [
    "# Find the instance with the highest negative score\n",
    "max_negative_index = df['negative'].idxmax()\n",
    "max_negative_instance = df.loc[max_negative_index]\n",
    "\n",
    "# Display the instance with the highest negative score\n",
    "print(\"Instance with the highest negative score:\")\n",
    "print(max_negative_instance)"
   ]
  },
  {
   "cell_type": "code",
   "execution_count": 16,
   "id": "46aa6e1c",
   "metadata": {},
   "outputs": [
    {
     "name": "stdout",
     "output_type": "stream",
     "text": [
      "sentiment_category  negative  neutral  positive\n",
      "Genre                                          \n",
      "Jazz                    2160      163     10991\n",
      "Metal                  12033      240      6860\n",
      "Pop                    26766      779     58899\n",
      "Rap                     7663       69      5147\n"
     ]
    }
   ],
   "source": [
    "# Function to categorize sentiment based on scores\n",
    "def categorize_sentiment(row):\n",
    "    if row['compound'] >= 0.05:\n",
    "        return 'positive'\n",
    "    elif row['compound'] <= -0.05:\n",
    "        return 'negative'\n",
    "    else:\n",
    "        return 'neutral'\n",
    "\n",
    "# Apply the categorize_sentiment function to create a new column for sentiment category\n",
    "df['sentiment_category'] = df.apply(categorize_sentiment, axis=1)\n",
    "\n",
    "# Group by genre and sentiment category, then count the occurrences\n",
    "sentiment_counts = df.groupby(['Genre', 'sentiment_category']).size().unstack(fill_value=0)\n",
    "\n",
    "# Display the sentiment counts by genre\n",
    "print(sentiment_counts)"
   ]
  },
  {
   "cell_type": "code",
   "execution_count": 18,
   "id": "fcec6caf",
   "metadata": {},
   "outputs": [],
   "source": [
    "# Function to categorize sentiment based on scores\n",
    "def categorize_sentiment(row):\n",
    "    if row['compound'] >= 0.05:\n",
    "        return 'positive'\n",
    "    elif row['compound'] <= -0.05:\n",
    "        return 'negative'\n",
    "    else:\n",
    "        return 'neutral'\n",
    "\n",
    "# Apply the categorize_sentiment function to create a new column for sentiment category\n",
    "df['sentiment_category'] = df.apply(categorize_sentiment, axis=1)\n",
    "\n",
    "# Define the number of instances to sample per genre\n",
    "num_samples = 1200\n",
    "\n",
    "# Sample 1200 instances from each genre\n",
    "genres = ['Metal', 'Pop', 'Jazz', 'Rap']\n",
    "sampled_dfs = [df[df['Genre'] == genre].sample(n=num_samples, random_state=42) for genre in genres]\n",
    "\n",
    "# Concatenate the sampled DataFrames\n",
    "sampled_df = pd.concat(sampled_dfs)\n",
    "\n",
    "# Save the sampled DataFrame to a new CSV file\n",
    "sampled_df.to_csv('balanced_lyrics_dataset.csv', index=False)"
   ]
  },
  {
   "cell_type": "code",
   "execution_count": 19,
   "id": "f9b56949",
   "metadata": {},
   "outputs": [
    {
     "name": "stdout",
     "output_type": "stream",
     "text": [
      "sentiment_category  negative  neutral  positive\n",
      "Genre                                          \n",
      "Jazz                     189       14       997\n",
      "Metal                    775        9       416\n",
      "Pop                      343       16       841\n",
      "Rap                      706        6       488\n"
     ]
    }
   ],
   "source": [
    "import pandas as pd\n",
    "\n",
    "# Load the balanced dataset\n",
    "balanced_df = pd.read_csv('balanced_lyrics_dataset.csv')\n",
    "\n",
    "# Function to categorize sentiment based on compound scores\n",
    "def categorize_sentiment(row):\n",
    "    if row['compound'] >= 0.05:\n",
    "        return 'positive'\n",
    "    elif row['compound'] <= -0.05:\n",
    "        return 'negative'\n",
    "    else:\n",
    "        return 'neutral'\n",
    "\n",
    "# Apply the categorize_sentiment function to create a new column for sentiment category\n",
    "balanced_df['sentiment_category'] = balanced_df.apply(categorize_sentiment, axis=1)\n",
    "\n",
    "# Group by genre and sentiment category, then count the occurrences\n",
    "sentiment_counts = balanced_df.groupby(['Genre', 'sentiment_category']).size().unstack(fill_value=0)\n",
    "\n",
    "# Display the sentiment counts by genre\n",
    "print(sentiment_counts)\n"
   ]
  },
  {
   "cell_type": "code",
   "execution_count": 20,
   "id": "b7500d45",
   "metadata": {},
   "outputs": [
    {
     "name": "stdout",
     "output_type": "stream",
     "text": [
      "sentiment_category  negative  neutral  positive\n",
      "Genre                                          \n",
      "Jazz                     189       14       997\n",
      "Metal                    775        9       416\n",
      "Pop                      343       16       841\n",
      "Rap                      706        6       488\n"
     ]
    }
   ],
   "source": [
    "import pandas as pd\n",
    "\n",
    "# Load the balanced dataset\n",
    "balanced_df = pd.read_csv('nltk_preprocessed_lyrics_dataset.csv')\n",
    "\n",
    "# Function to categorize sentiment based on compound scores\n",
    "def categorize_sentiment(row):\n",
    "    if row['compound'] >= 0.05:\n",
    "        return 'positive'\n",
    "    elif row['compound'] <= -0.05:\n",
    "        return 'negative'\n",
    "    else:\n",
    "        return 'neutral'\n",
    "\n",
    "# Apply the categorize_sentiment function to create a new column for sentiment category\n",
    "balanced_df['sentiment_category'] = balanced_df.apply(categorize_sentiment, axis=1)\n",
    "\n",
    "# Group by genre and sentiment category, then count the occurrences\n",
    "sentiment_counts = balanced_df.groupby(['Genre', 'sentiment_category']).size().unstack(fill_value=0)\n",
    "\n",
    "# Display the sentiment counts by genre\n",
    "print(sentiment_counts)"
   ]
  },
  {
   "cell_type": "code",
   "execution_count": 1,
   "id": "3f8726ce",
   "metadata": {},
   "outputs": [
    {
     "name": "stdout",
     "output_type": "stream",
     "text": [
      "sentiment_category  negative  neutral  positive\n",
      "Genre                                          \n",
      "Jazz                     189       14       997\n",
      "Metal                    775        9       416\n",
      "Pop                      343       16       841\n",
      "Rap                      706        6       488\n"
     ]
    }
   ],
   "source": [
    "import pandas as pd\n",
    "\n",
    "# Load the balanced dataset\n",
    "balanced_df = pd.read_csv('preprocessed_lyrics_dataset.csv')\n",
    "\n",
    "# Function to categorize sentiment based on compound scores\n",
    "def categorize_sentiment(row):\n",
    "    if row['compound'] >= 0.05:\n",
    "        return 'positive'\n",
    "    elif row['compound'] <= -0.05:\n",
    "        return 'negative'\n",
    "    else:\n",
    "        return 'neutral'\n",
    "\n",
    "# Apply the categorize_sentiment function to create a new column for sentiment category\n",
    "balanced_df['sentiment_category'] = balanced_df.apply(categorize_sentiment, axis=1)\n",
    "\n",
    "# Group by genre and sentiment category, then count the occurrences\n",
    "sentiment_counts = balanced_df.groupby(['Genre', 'sentiment_category']).size().unstack(fill_value=0)\n",
    "\n",
    "# Display the sentiment counts by genre\n",
    "print(sentiment_counts)"
   ]
  },
  {
   "cell_type": "code",
   "execution_count": 2,
   "id": "8d2fdd90",
   "metadata": {},
   "outputs": [],
   "source": [
    "import pandas as pd\n",
    "\n",
    "# Load the dataset\n",
    "df = pd.read_csv('1500date-mai multe genuri.csv')\n"
   ]
  },
  {
   "cell_type": "code",
   "execution_count": 3,
   "id": "cc315b42",
   "metadata": {},
   "outputs": [
    {
     "name": "stdout",
     "output_type": "stream",
     "text": [
      "      Artist                    Title Genre  \\\n",
      "0  12 stones            world so cold  Rock   \n",
      "1  12 stones                   broken  Rock   \n",
      "2  12 stones             3 leaf loser  Rock   \n",
      "3  12 stones  anthem for the underdog  Rock   \n",
      "4  12 stones               adrenaline  Rock   \n",
      "\n",
      "                                      Cleaned_Lyrics  compound  positive  \\\n",
      "0  It starts with pain followed by hate\\nFueled b...   -0.9813     0.107   \n",
      "1  Freedom\\nAlone again again alone\\nPatiently wa...   -0.9973     0.103   \n",
      "2  Biting the hand that feeds you lying to the vo...   -0.9539     0.066   \n",
      "3  You say you know just who I am\\nBut you cant i...    0.3086     0.165   \n",
      "4  My heart is beating faster cant control these ...    0.9953     0.213   \n",
      "\n",
      "   neutral  negative  \n",
      "0    0.716     0.177  \n",
      "1    0.579     0.318  \n",
      "2    0.770     0.164  \n",
      "3    0.697     0.139  \n",
      "4    0.710     0.077  \n"
     ]
    }
   ],
   "source": [
    "import pandas as pd\n",
    "from vaderSentiment.vaderSentiment import SentimentIntensityAnalyzer\n",
    "\n",
    "# Load the dataset\n",
    "df = pd.read_csv('1500date-mai multe genuri.csv')\n",
    "\n",
    "# Initialize the sentiment analyzer\n",
    "analyzer = SentimentIntensityAnalyzer()\n",
    "\n",
    "# Function to analyze sentiment\n",
    "def analyze_sentiment(lyric):\n",
    "    if pd.isna(lyric):\n",
    "        # Return neutral sentiment for NaN values\n",
    "        return pd.Series([0, 0, 1, 0])\n",
    "    else:\n",
    "        scores = analyzer.polarity_scores(str(lyric))  # Ensure lyric is a string\n",
    "        return pd.Series([scores['compound'], scores['pos'], scores['neu'], scores['neg']])\n",
    "\n",
    "# Apply the function to the Cleared_Lyrics column and create new columns for the sentiment scores\n",
    "df[['compound', 'positive', 'neutral', 'negative']] = df['Cleaned_Lyrics'].apply(analyze_sentiment)\n",
    "\n",
    "# Display the DataFrame with sentiment scores\n",
    "print(df.head())\n",
    "\n",
    "# Save the resulting DataFrame to a new CSV file\n",
    "df.to_csv('1500_sentiment_analysis.csv', index=False)"
   ]
  },
  {
   "cell_type": "code",
   "execution_count": 4,
   "id": "b60b766f",
   "metadata": {},
   "outputs": [
    {
     "name": "stdout",
     "output_type": "stream",
     "text": [
      "sentiment_category  negative  neutral  positive\n",
      "Genre                                          \n",
      "Country                  346       25      1129\n",
      "Electronic               523       44       933\n",
      "Folk                     397       22      1081\n",
      "Hip-Hop                  798        8       694\n",
      "Indie                    501       36       963\n",
      "Jazz                     252       22      1226\n",
      "Metal                    853       13       634\n",
      "Pop                      664       22       814\n",
      "R&B                      230       10      1260\n",
      "Rock                     598       10       892\n",
      "rap                      855        8       637\n"
     ]
    }
   ],
   "source": [
    "import pandas as pd\n",
    "\n",
    "# Load the balanced dataset\n",
    "balanced_df = pd.read_csv('1500_sentiment_analysis.csv')\n",
    "\n",
    "# Function to categorize sentiment based on compound scores\n",
    "def categorize_sentiment(row):\n",
    "    if row['compound'] >= 0.05:\n",
    "        return 'positive'\n",
    "    elif row['compound'] <= -0.05:\n",
    "        return 'negative'\n",
    "    else:\n",
    "        return 'neutral'\n",
    "\n",
    "# Apply the categorize_sentiment function to create a new column for sentiment category\n",
    "balanced_df['sentiment_category'] = balanced_df.apply(categorize_sentiment, axis=1)\n",
    "\n",
    "# Group by genre and sentiment category, then count the occurrences\n",
    "sentiment_counts = balanced_df.groupby(['Genre', 'sentiment_category']).size().unstack(fill_value=0)\n",
    "\n",
    "# Display the sentiment counts by genre\n",
    "print(sentiment_counts)\n"
   ]
  },
  {
   "cell_type": "code",
   "execution_count": null,
   "id": "77491fd6",
   "metadata": {},
   "outputs": [],
   "source": []
  },
  {
   "cell_type": "code",
   "execution_count": null,
   "id": "f1c78e83",
   "metadata": {},
   "outputs": [],
   "source": []
  },
  {
   "cell_type": "code",
   "execution_count": null,
   "id": "f8dc21a2",
   "metadata": {},
   "outputs": [],
   "source": []
  }
 ],
 "metadata": {
  "kernelspec": {
   "display_name": "Python 3 (ipykernel)",
   "language": "python",
   "name": "python3"
  },
  "language_info": {
   "codemirror_mode": {
    "name": "ipython",
    "version": 3
   },
   "file_extension": ".py",
   "mimetype": "text/x-python",
   "name": "python",
   "nbconvert_exporter": "python",
   "pygments_lexer": "ipython3",
   "version": "3.11.5"
  }
 },
 "nbformat": 4,
 "nbformat_minor": 5
}
